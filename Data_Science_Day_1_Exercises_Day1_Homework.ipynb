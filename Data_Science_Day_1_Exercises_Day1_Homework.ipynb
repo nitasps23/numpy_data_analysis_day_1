{
 "cells": [
  {
   "cell_type": "markdown",
   "metadata": {
    "id": "KdERlTpFuL5V"
   },
   "source": [
    "# Exercises"
   ]
  },
  {
   "cell_type": "markdown",
   "metadata": {
    "id": "to-gsrQyuL5Z"
   },
   "source": [
    "### #1 - Calculate the BMI (body mass index) on the two lists below using NDArrays..."
   ]
  },
  {
   "cell_type": "code",
   "execution_count": 8,
   "metadata": {
    "id": "iZlf9DzeuL5a"
   },
   "outputs": [
    {
     "name": "stdout",
     "output_type": "stream",
     "text": [
      "[16.866 17.878 18.826 19.715 20.548 21.329 22.062]\n",
      "\n",
      "[[16.866]\n",
      " [17.878]\n",
      " [18.826]\n",
      " [19.715]\n",
      " [20.548]\n",
      " [21.329]\n",
      " [22.062]]\n"
     ]
    }
   ],
   "source": [
    "import numpy as np\n",
    "# formula = weight / (height**2) * 730\n",
    "height = np.array([69, 70, 71, 72, 73, 74, 75])\n",
    "weight = np.array([110, 120, 130, 140, 150, 160, 170])\n",
    "\n",
    "bmi = weight / (height ** 2) * 730\n",
    "\n",
    "np.set_printoptions(precision=3)\n",
    "\n",
    "print(bmi)\n",
    "\n",
    "print()\n",
    "\n",
    "print(bmi.reshape(7,1))"
   ]
  },
  {
   "cell_type": "markdown",
   "metadata": {
    "id": "RSsT8w8ouL5b"
   },
   "source": [
    "### #2 - Create a function that will take in two parameters and will create a random matrix based off of those parameters. Extra: Have additional parameters taken in that allow the user to choose the shape and data type of the matrix."
   ]
  },
  {
   "cell_type": "code",
   "execution_count": 9,
   "metadata": {
    "id": "ygFvj0aeuL5b"
   },
   "outputs": [
    {
     "name": "stdout",
     "output_type": "stream",
     "text": [
      "[[46.215 87.944 39.387 89.471  4.961 44.182]\n",
      " [39.223 73.972 87.052 32.195 26.921  2.259]\n",
      " [52.537 41.496 82.147 81.184 18.524 81.474]\n",
      " [34.486 60.741 78.682 21.887 89.888 92.322]\n",
      " [ 4.756 73.874 55.05  86.279  3.7   70.238]\n",
      " [45.348 70.632 63.806 19.735 12.968 85.696]]\n",
      "\n",
      "[[45 89]\n",
      " [57  9]\n",
      " [60 80]\n",
      " [ 3 26]\n",
      " [20 89]\n",
      " [15 25]\n",
      " [31 19]]\n"
     ]
    }
   ],
   "source": [
    "def random_matrix(min_val, max_val, shape=(6,6), data_type=float):\n",
    "    return np.random.uniform(min_val, max_val, shape).astype(data_type)\n",
    "\n",
    "\n",
    "print(random_matrix(1,100))\n",
    "print()\n",
    "print(random_matrix(1,100,(7,2),data_type=int))"
   ]
  },
  {
   "cell_type": "markdown",
   "metadata": {
    "id": "e5mP1UX9uL5c"
   },
   "source": [
    "### #3 - Extra: Open and load the data in the two text files that have the Boston Red Sox hitting data for the past seasons. Compare the difference in the two years by putting the data into an NDArray and running a differencial operation on it. The column to look for will be SLG.\n",
    "\n",
    "Your output should display which year (either 2017 or 2018) was a better year based on SLG"
   ]
  },
  {
   "cell_type": "code",
   "execution_count": 10,
   "metadata": {
    "id": "iAExC-SjuL5c"
   },
   "outputs": [],
   "source": [
    "import csv\n",
    "import numpy as np"
   ]
  },
  {
   "cell_type": "code",
   "execution_count": 11,
   "metadata": {
    "id": "P8Rwr8lmuL5e"
   },
   "outputs": [
    {
     "name": "stdout",
     "output_type": "stream",
     "text": [
      "The RedSox had a better average hits in 2017.\n"
     ]
    }
   ],
   "source": [
    "FIELDS = ['Rk', 'Pos', 'Name', 'Age', 'G', 'PA', 'AB', 'R', 'H', '2B', '3B', 'HR', 'RBI', 'SB', 'CS', \n",
    "          'BB', 'SO', 'BA', 'OBP', 'SLG', 'OPS', 'OPS+', 'TB', 'GDP', 'HBP', 'SH', 'SF', 'IBB']\n",
    "\n",
    "DATATYPES = [('rk', 'i'), ('pos', '|S25'), ('name', '|S25'), ('age', 'i'), ('g', 'i'), ('pa', 'i'), ('ab', 'i'),\n",
    "                ('r', 'i'), ('h', 'i'), ('2b', 'i'), ('3b', 'i'), ('hr', 'i'), ('rbi', 'i'), ('sb', 'i'), ('cs', 'i'),\n",
    "                ('bb', 'i'), ('so', 'i'), ('ba', 'f'), ('obp', 'f'), ('slg', 'f'), ('ops', 'f'), ('opsp', 'i'),\n",
    "                ('tb', 'i'), ('gdp', 'i'), ('hbp', 'i'), ('sh', 'i'), ('sf', 'i'), ('ibb', 'i')]\n",
    "\n",
    "#Use this function to actually open the data inside of a NDArray\n",
    "\n",
    "def load_data(filename, d = \",\"):\n",
    "    data = np.genfromtxt(filename, delimiter= d, skip_header= 1,\n",
    "                        usecols= np.arange(0,24), invalid_raise=False,\n",
    "                        names = FIELDS, dtype = DATATYPES)\n",
    "    return data\n",
    "\n",
    "bs2017 = load_data('files/redsox_2017_hitting.txt')\n",
    "bs2018 = load_data('files/redsox_2018_hitting.txt')\n",
    "\n",
    "avg_hits2017 = sum(bs2017[\"SLG\"]) / len(bs2017[\"SLG\"])\n",
    "avg_hits2018 = sum(bs2018[\"SLG\"]) / len(bs2018[\"SLG\"])\n",
    "\n",
    "if avg_hits2017 > avg_hits2018:\n",
    "    print(\"The RedSox had a better average hits in 2017.\")\n",
    "else:\n",
    "    print(\"The RedSox had a better average hits in 2018.\")\n"
   ]
  },
  {
   "cell_type": "code",
   "execution_count": null,
   "metadata": {},
   "outputs": [],
   "source": []
  }
 ],
 "metadata": {
  "colab": {
   "name": "Copy of Data_Science_Day_1_Exercises-Day1- Homework.ipynb",
   "provenance": []
  },
  "kernelspec": {
   "display_name": "Python 3 (ipykernel)",
   "language": "python",
   "name": "python3"
  },
  "language_info": {
   "codemirror_mode": {
    "name": "ipython",
    "version": 3
   },
   "file_extension": ".py",
   "mimetype": "text/x-python",
   "name": "python",
   "nbconvert_exporter": "python",
   "pygments_lexer": "ipython3",
   "version": "3.11.5"
  }
 },
 "nbformat": 4,
 "nbformat_minor": 1
}
